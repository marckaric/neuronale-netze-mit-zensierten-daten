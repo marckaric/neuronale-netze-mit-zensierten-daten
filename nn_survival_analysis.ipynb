{
 "cells": [
  {
   "cell_type": "code",
   "execution_count": 1,
   "metadata": {},
   "outputs": [
    {
     "name": "stdout",
     "output_type": "stream",
     "text": [
      "WARNING:tensorflow:From c:\\ProgramData\\anaconda3\\Lib\\site-packages\\keras\\src\\losses.py:2976: The name tf.losses.sparse_softmax_cross_entropy is deprecated. Please use tf.compat.v1.losses.sparse_softmax_cross_entropy instead.\n",
      "\n"
     ]
    },
    {
     "name": "stderr",
     "output_type": "stream",
     "text": [
      "C:\\Users\\proxr\\AppData\\Local\\Temp\\ipykernel_2376\\2200840416.py:6: DeprecationWarning: `import kerastuner` is deprecated, please use `import keras_tuner`.\n",
      "  from kerastuner import GridSearch\n"
     ]
    }
   ],
   "source": [
    "import pandas as pd\n",
    "from lifelines import KaplanMeierFitter\n",
    "import numpy as np\n",
    "import tensorflow as tf\n",
    "import keras\n",
    "from kerastuner import GridSearch\n",
    "from kerastuner import RandomSearch\n",
    "from kerastuner import Objective\n",
    "from kerastuner import Hyperband\n",
    "from keras.models import Sequential\n",
    "from keras.layers import Dense, Dropout\n",
    "from keras.layers import Activation, Flatten\n",
    "from sklearn.model_selection import GroupShuffleSplit\n",
    "from sklearn.preprocessing import MinMaxScaler\n",
    "from IPython.display import clear_output\n",
    "from matplotlib import pyplot as plt\n",
    "%matplotlib inline"
   ]
  },
  {
   "cell_type": "markdown",
   "metadata": {},
   "source": [
    "### 1 Import der Daten"
   ]
  },
  {
   "cell_type": "code",
   "execution_count": 2,
   "metadata": {},
   "outputs": [
    {
     "data": {
      "text/html": [
       "<div>\n",
       "<style scoped>\n",
       "    .dataframe tbody tr th:only-of-type {\n",
       "        vertical-align: middle;\n",
       "    }\n",
       "\n",
       "    .dataframe tbody tr th {\n",
       "        vertical-align: top;\n",
       "    }\n",
       "\n",
       "    .dataframe thead th {\n",
       "        text-align: right;\n",
       "    }\n",
       "</style>\n",
       "<table border=\"1\" class=\"dataframe\">\n",
       "  <thead>\n",
       "    <tr style=\"text-align: right;\">\n",
       "      <th></th>\n",
       "      <th>Age</th>\n",
       "      <th>Sex</th>\n",
       "      <th>SBP</th>\n",
       "      <th>Cholesterol</th>\n",
       "      <th>HDL</th>\n",
       "      <th>LDL</th>\n",
       "      <th>SmokingStatus</th>\n",
       "      <th>DateOfFirstAttendance</th>\n",
       "      <th>f.42000.0.0</th>\n",
       "      <th>f.42006.0.0</th>\n",
       "    </tr>\n",
       "  </thead>\n",
       "  <tbody>\n",
       "    <tr>\n",
       "      <th>0</th>\n",
       "      <td>49</td>\n",
       "      <td>F</td>\n",
       "      <td>110.0</td>\n",
       "      <td>4.295</td>\n",
       "      <td>NaN</td>\n",
       "      <td>2.463</td>\n",
       "      <td>Never</td>\n",
       "      <td>2008-02-25</td>\n",
       "      <td>NaN</td>\n",
       "      <td>NaN</td>\n",
       "    </tr>\n",
       "    <tr>\n",
       "      <th>1</th>\n",
       "      <td>69</td>\n",
       "      <td>F</td>\n",
       "      <td>140.0</td>\n",
       "      <td>NaN</td>\n",
       "      <td>NaN</td>\n",
       "      <td>NaN</td>\n",
       "      <td>Never</td>\n",
       "      <td>2009-04-25</td>\n",
       "      <td>NaN</td>\n",
       "      <td>NaN</td>\n",
       "    </tr>\n",
       "    <tr>\n",
       "      <th>2</th>\n",
       "      <td>65</td>\n",
       "      <td>F</td>\n",
       "      <td>187.0</td>\n",
       "      <td>6.515</td>\n",
       "      <td>1.546</td>\n",
       "      <td>4.115</td>\n",
       "      <td>Never</td>\n",
       "      <td>2009-05-27</td>\n",
       "      <td>NaN</td>\n",
       "      <td>NaN</td>\n",
       "    </tr>\n",
       "    <tr>\n",
       "      <th>3</th>\n",
       "      <td>64</td>\n",
       "      <td>M</td>\n",
       "      <td>138.0</td>\n",
       "      <td>6.633</td>\n",
       "      <td>1.239</td>\n",
       "      <td>4.336</td>\n",
       "      <td>Previous</td>\n",
       "      <td>2009-06-26</td>\n",
       "      <td>2015-07-10</td>\n",
       "      <td>NaN</td>\n",
       "    </tr>\n",
       "    <tr>\n",
       "      <th>4</th>\n",
       "      <td>45</td>\n",
       "      <td>F</td>\n",
       "      <td>105.0</td>\n",
       "      <td>5.034</td>\n",
       "      <td>2.292</td>\n",
       "      <td>2.655</td>\n",
       "      <td>Never</td>\n",
       "      <td>2009-11-09</td>\n",
       "      <td>NaN</td>\n",
       "      <td>NaN</td>\n",
       "    </tr>\n",
       "    <tr>\n",
       "      <th>...</th>\n",
       "      <td>...</td>\n",
       "      <td>...</td>\n",
       "      <td>...</td>\n",
       "      <td>...</td>\n",
       "      <td>...</td>\n",
       "      <td>...</td>\n",
       "      <td>...</td>\n",
       "      <td>...</td>\n",
       "      <td>...</td>\n",
       "      <td>...</td>\n",
       "    </tr>\n",
       "    <tr>\n",
       "      <th>477569</th>\n",
       "      <td>68</td>\n",
       "      <td>M</td>\n",
       "      <td>202.0</td>\n",
       "      <td>5.241</td>\n",
       "      <td>1.054</td>\n",
       "      <td>3.467</td>\n",
       "      <td>Never</td>\n",
       "      <td>2008-08-28</td>\n",
       "      <td>NaN</td>\n",
       "      <td>2011-12-11</td>\n",
       "    </tr>\n",
       "    <tr>\n",
       "      <th>477570</th>\n",
       "      <td>58</td>\n",
       "      <td>F</td>\n",
       "      <td>123.0</td>\n",
       "      <td>5.894</td>\n",
       "      <td>1.651</td>\n",
       "      <td>3.085</td>\n",
       "      <td>Previous</td>\n",
       "      <td>2008-10-11</td>\n",
       "      <td>NaN</td>\n",
       "      <td>NaN</td>\n",
       "    </tr>\n",
       "    <tr>\n",
       "      <th>477571</th>\n",
       "      <td>50</td>\n",
       "      <td>M</td>\n",
       "      <td>125.0</td>\n",
       "      <td>3.497</td>\n",
       "      <td>0.901</td>\n",
       "      <td>2.269</td>\n",
       "      <td>Never</td>\n",
       "      <td>2009-11-26</td>\n",
       "      <td>2004-06-30</td>\n",
       "      <td>NaN</td>\n",
       "    </tr>\n",
       "    <tr>\n",
       "      <th>477572</th>\n",
       "      <td>58</td>\n",
       "      <td>M</td>\n",
       "      <td>143.0</td>\n",
       "      <td>5.217</td>\n",
       "      <td>0.914</td>\n",
       "      <td>3.232</td>\n",
       "      <td>Previous</td>\n",
       "      <td>2010-03-09</td>\n",
       "      <td>NaN</td>\n",
       "      <td>NaN</td>\n",
       "    </tr>\n",
       "    <tr>\n",
       "      <th>477573</th>\n",
       "      <td>48</td>\n",
       "      <td>M</td>\n",
       "      <td>19.0</td>\n",
       "      <td>NaN</td>\n",
       "      <td>NaN</td>\n",
       "      <td>NaN</td>\n",
       "      <td>NaN</td>\n",
       "      <td>NaN</td>\n",
       "      <td>NaN</td>\n",
       "      <td>NaN</td>\n",
       "    </tr>\n",
       "  </tbody>\n",
       "</table>\n",
       "<p>477574 rows × 10 columns</p>\n",
       "</div>"
      ],
      "text/plain": [
       "        Age Sex    SBP  Cholesterol    HDL    LDL SmokingStatus   \n",
       "0        49   F  110.0        4.295    NaN  2.463         Never  \\\n",
       "1        69   F  140.0          NaN    NaN    NaN         Never   \n",
       "2        65   F  187.0        6.515  1.546  4.115         Never   \n",
       "3        64   M  138.0        6.633  1.239  4.336      Previous   \n",
       "4        45   F  105.0        5.034  2.292  2.655         Never   \n",
       "...     ...  ..    ...          ...    ...    ...           ...   \n",
       "477569   68   M  202.0        5.241  1.054  3.467         Never   \n",
       "477570   58   F  123.0        5.894  1.651  3.085      Previous   \n",
       "477571   50   M  125.0        3.497  0.901  2.269         Never   \n",
       "477572   58   M  143.0        5.217  0.914  3.232      Previous   \n",
       "477573   48   M   19.0          NaN    NaN    NaN           NaN   \n",
       "\n",
       "       DateOfFirstAttendance f.42000.0.0 f.42006.0.0  \n",
       "0                 2008-02-25         NaN         NaN  \n",
       "1                 2009-04-25         NaN         NaN  \n",
       "2                 2009-05-27         NaN         NaN  \n",
       "3                 2009-06-26  2015-07-10         NaN  \n",
       "4                 2009-11-09         NaN         NaN  \n",
       "...                      ...         ...         ...  \n",
       "477569            2008-08-28         NaN  2011-12-11  \n",
       "477570            2008-10-11         NaN         NaN  \n",
       "477571            2009-11-26  2004-06-30         NaN  \n",
       "477572            2010-03-09         NaN         NaN  \n",
       "477573                   NaN         NaN         NaN  \n",
       "\n",
       "[477574 rows x 10 columns]"
      ]
     },
     "execution_count": 2,
     "metadata": {},
     "output_type": "execute_result"
    }
   ],
   "source": [
    "cardiovascular_data = pd.read_csv(\"ukbiobankdata.csv\")\n",
    "cardiovascular_data"
   ]
  },
  {
   "cell_type": "markdown",
   "metadata": {},
   "source": [
    "### 2 Preprocessing"
   ]
  },
  {
   "cell_type": "code",
   "execution_count": 3,
   "metadata": {},
   "outputs": [],
   "source": [
    "cardiovascular_data[\"SmokingStatus\"].replace([\"Current\", \"Previous\"], 1, inplace=True)\n",
    "cardiovascular_data[\"SmokingStatus\"].replace(\"Never\", 0, inplace=True)"
   ]
  },
  {
   "cell_type": "code",
   "execution_count": 4,
   "metadata": {},
   "outputs": [
    {
     "data": {
      "text/plain": [
       "Age                               int64\n",
       "Sex                              object\n",
       "SBP                             float64\n",
       "Cholesterol                     float64\n",
       "HDL                             float64\n",
       "LDL                             float64\n",
       "SmokingStatus                   float64\n",
       "DateOfFirstAttendance            object\n",
       "f.42000.0.0              datetime64[ns]\n",
       "f.42006.0.0              datetime64[ns]\n",
       "dtype: object"
      ]
     },
     "execution_count": 4,
     "metadata": {},
     "output_type": "execute_result"
    }
   ],
   "source": [
    "cardiovascular_data[\"f.42000.0.0\"] = pd.to_datetime(cardiovascular_data[\"f.42000.0.0\"], format=\"%Y-%m-%d\")\n",
    "cardiovascular_data[\"f.42006.0.0\"] = pd.to_datetime(cardiovascular_data[\"f.42006.0.0\"], format=\"%Y-%m-%d\")\n",
    "cardiovascular_data.dtypes"
   ]
  },
  {
   "cell_type": "code",
   "execution_count": 5,
   "metadata": {},
   "outputs": [],
   "source": [
    "cardiovascular_data[\"DateOfCardiovascularEvent\"] = np.nan"
   ]
  },
  {
   "cell_type": "code",
   "execution_count": 6,
   "metadata": {},
   "outputs": [],
   "source": [
    "cardiovascular_data[\"DateOfCardiovascularEvent\"] = pd.to_datetime(cardiovascular_data[\"DateOfCardiovascularEvent\"], format=\"%Y-%m-%d\")"
   ]
  },
  {
   "cell_type": "code",
   "execution_count": 7,
   "metadata": {},
   "outputs": [],
   "source": [
    "# Sucht für jeden Patienten das frühere Datum heraus, falls ein Patient sowohl Herz- als auch Hininfarkt hatte.\n",
    "for i in range(len(cardiovascular_data)):\n",
    "    if(pd.isnull(cardiovascular_data.loc[i, \"f.42000.0.0\"]) and pd.isnull(cardiovascular_data.loc[i, \"f.42006.0.0\"])):\n",
    "        if(cardiovascular_data.loc[i, \"f.42000.0.0\"] < cardiovascular_data.loc[i, \"f.42006.0.0\"]):\n",
    "            cardiovascular_data.loc[i, \"DateOfCardiovascularEvent\"] = cardiovascular_data.loc[i, \"f.42000.0.0\"]\n",
    "        else:\n",
    "            cardiovascular_data.loc[i, \"DateOfCardiovascularEvent\"] = cardiovascular_data.loc[i, \"f.42006.0.0\"]\n",
    "    if(pd.isnull(cardiovascular_data.loc[i,\"f.42000.0.0\"]) and not pd.isnull(cardiovascular_data.loc[i, \"f.42006.0.0\"])):\n",
    "        cardiovascular_data.loc[i, \"DateOfCardiovascularEvent\"] = cardiovascular_data.loc[i, \"f.42006.0.0\"]\n",
    "    else:\n",
    "        cardiovascular_data.loc[i, \"DateOfCardiovascularEvent\"] = cardiovascular_data.loc[i, \"f.42000.0.0\"]"
   ]
  },
  {
   "cell_type": "code",
   "execution_count": 8,
   "metadata": {},
   "outputs": [
    {
     "data": {
      "text/html": [
       "<div>\n",
       "<style scoped>\n",
       "    .dataframe tbody tr th:only-of-type {\n",
       "        vertical-align: middle;\n",
       "    }\n",
       "\n",
       "    .dataframe tbody tr th {\n",
       "        vertical-align: top;\n",
       "    }\n",
       "\n",
       "    .dataframe thead th {\n",
       "        text-align: right;\n",
       "    }\n",
       "</style>\n",
       "<table border=\"1\" class=\"dataframe\">\n",
       "  <thead>\n",
       "    <tr style=\"text-align: right;\">\n",
       "      <th></th>\n",
       "      <th>Age</th>\n",
       "      <th>Sex</th>\n",
       "      <th>SBP</th>\n",
       "      <th>Cholesterol</th>\n",
       "      <th>HDL</th>\n",
       "      <th>LDL</th>\n",
       "      <th>SmokingStatus</th>\n",
       "      <th>DateOfFirstAttendance</th>\n",
       "      <th>DateOfCardiovascularEvent</th>\n",
       "    </tr>\n",
       "  </thead>\n",
       "  <tbody>\n",
       "    <tr>\n",
       "      <th>0</th>\n",
       "      <td>49</td>\n",
       "      <td>F</td>\n",
       "      <td>110.0</td>\n",
       "      <td>4.295</td>\n",
       "      <td>NaN</td>\n",
       "      <td>2.463</td>\n",
       "      <td>0.0</td>\n",
       "      <td>2008-02-25</td>\n",
       "      <td>NaT</td>\n",
       "    </tr>\n",
       "    <tr>\n",
       "      <th>1</th>\n",
       "      <td>69</td>\n",
       "      <td>F</td>\n",
       "      <td>140.0</td>\n",
       "      <td>NaN</td>\n",
       "      <td>NaN</td>\n",
       "      <td>NaN</td>\n",
       "      <td>0.0</td>\n",
       "      <td>2009-04-25</td>\n",
       "      <td>NaT</td>\n",
       "    </tr>\n",
       "    <tr>\n",
       "      <th>2</th>\n",
       "      <td>65</td>\n",
       "      <td>F</td>\n",
       "      <td>187.0</td>\n",
       "      <td>6.515</td>\n",
       "      <td>1.546</td>\n",
       "      <td>4.115</td>\n",
       "      <td>0.0</td>\n",
       "      <td>2009-05-27</td>\n",
       "      <td>NaT</td>\n",
       "    </tr>\n",
       "    <tr>\n",
       "      <th>3</th>\n",
       "      <td>64</td>\n",
       "      <td>M</td>\n",
       "      <td>138.0</td>\n",
       "      <td>6.633</td>\n",
       "      <td>1.239</td>\n",
       "      <td>4.336</td>\n",
       "      <td>1.0</td>\n",
       "      <td>2009-06-26</td>\n",
       "      <td>2015-07-10</td>\n",
       "    </tr>\n",
       "    <tr>\n",
       "      <th>4</th>\n",
       "      <td>45</td>\n",
       "      <td>F</td>\n",
       "      <td>105.0</td>\n",
       "      <td>5.034</td>\n",
       "      <td>2.292</td>\n",
       "      <td>2.655</td>\n",
       "      <td>0.0</td>\n",
       "      <td>2009-11-09</td>\n",
       "      <td>NaT</td>\n",
       "    </tr>\n",
       "    <tr>\n",
       "      <th>...</th>\n",
       "      <td>...</td>\n",
       "      <td>...</td>\n",
       "      <td>...</td>\n",
       "      <td>...</td>\n",
       "      <td>...</td>\n",
       "      <td>...</td>\n",
       "      <td>...</td>\n",
       "      <td>...</td>\n",
       "      <td>...</td>\n",
       "    </tr>\n",
       "    <tr>\n",
       "      <th>477569</th>\n",
       "      <td>68</td>\n",
       "      <td>M</td>\n",
       "      <td>202.0</td>\n",
       "      <td>5.241</td>\n",
       "      <td>1.054</td>\n",
       "      <td>3.467</td>\n",
       "      <td>0.0</td>\n",
       "      <td>2008-08-28</td>\n",
       "      <td>2011-12-11</td>\n",
       "    </tr>\n",
       "    <tr>\n",
       "      <th>477570</th>\n",
       "      <td>58</td>\n",
       "      <td>F</td>\n",
       "      <td>123.0</td>\n",
       "      <td>5.894</td>\n",
       "      <td>1.651</td>\n",
       "      <td>3.085</td>\n",
       "      <td>1.0</td>\n",
       "      <td>2008-10-11</td>\n",
       "      <td>NaT</td>\n",
       "    </tr>\n",
       "    <tr>\n",
       "      <th>477571</th>\n",
       "      <td>50</td>\n",
       "      <td>M</td>\n",
       "      <td>125.0</td>\n",
       "      <td>3.497</td>\n",
       "      <td>0.901</td>\n",
       "      <td>2.269</td>\n",
       "      <td>0.0</td>\n",
       "      <td>2009-11-26</td>\n",
       "      <td>2004-06-30</td>\n",
       "    </tr>\n",
       "    <tr>\n",
       "      <th>477572</th>\n",
       "      <td>58</td>\n",
       "      <td>M</td>\n",
       "      <td>143.0</td>\n",
       "      <td>5.217</td>\n",
       "      <td>0.914</td>\n",
       "      <td>3.232</td>\n",
       "      <td>1.0</td>\n",
       "      <td>2010-03-09</td>\n",
       "      <td>NaT</td>\n",
       "    </tr>\n",
       "    <tr>\n",
       "      <th>477573</th>\n",
       "      <td>48</td>\n",
       "      <td>M</td>\n",
       "      <td>19.0</td>\n",
       "      <td>NaN</td>\n",
       "      <td>NaN</td>\n",
       "      <td>NaN</td>\n",
       "      <td>NaN</td>\n",
       "      <td>NaN</td>\n",
       "      <td>NaT</td>\n",
       "    </tr>\n",
       "  </tbody>\n",
       "</table>\n",
       "<p>477574 rows × 9 columns</p>\n",
       "</div>"
      ],
      "text/plain": [
       "        Age Sex    SBP  Cholesterol    HDL    LDL  SmokingStatus   \n",
       "0        49   F  110.0        4.295    NaN  2.463            0.0  \\\n",
       "1        69   F  140.0          NaN    NaN    NaN            0.0   \n",
       "2        65   F  187.0        6.515  1.546  4.115            0.0   \n",
       "3        64   M  138.0        6.633  1.239  4.336            1.0   \n",
       "4        45   F  105.0        5.034  2.292  2.655            0.0   \n",
       "...     ...  ..    ...          ...    ...    ...            ...   \n",
       "477569   68   M  202.0        5.241  1.054  3.467            0.0   \n",
       "477570   58   F  123.0        5.894  1.651  3.085            1.0   \n",
       "477571   50   M  125.0        3.497  0.901  2.269            0.0   \n",
       "477572   58   M  143.0        5.217  0.914  3.232            1.0   \n",
       "477573   48   M   19.0          NaN    NaN    NaN            NaN   \n",
       "\n",
       "       DateOfFirstAttendance DateOfCardiovascularEvent  \n",
       "0                 2008-02-25                       NaT  \n",
       "1                 2009-04-25                       NaT  \n",
       "2                 2009-05-27                       NaT  \n",
       "3                 2009-06-26                2015-07-10  \n",
       "4                 2009-11-09                       NaT  \n",
       "...                      ...                       ...  \n",
       "477569            2008-08-28                2011-12-11  \n",
       "477570            2008-10-11                       NaT  \n",
       "477571            2009-11-26                2004-06-30  \n",
       "477572            2010-03-09                       NaT  \n",
       "477573                   NaN                       NaT  \n",
       "\n",
       "[477574 rows x 9 columns]"
      ]
     },
     "execution_count": 8,
     "metadata": {},
     "output_type": "execute_result"
    }
   ],
   "source": [
    "cardiovascular_data.drop([\"f.42000.0.0\", \"f.42006.0.0\"], axis=1, inplace=True)\n",
    "cardiovascular_data"
   ]
  },
  {
   "cell_type": "code",
   "execution_count": 9,
   "metadata": {},
   "outputs": [],
   "source": [
    "cardiovascular_data.dropna(subset=[\"DateOfFirstAttendance\"], inplace=True)"
   ]
  },
  {
   "cell_type": "code",
   "execution_count": 10,
   "metadata": {},
   "outputs": [],
   "source": [
    "cardiovascular_data[\"DateOfFirstAttendance\"] = pd.to_datetime(cardiovascular_data[\"DateOfFirstAttendance\"], format=\"%Y-%m-%d\")"
   ]
  },
  {
   "cell_type": "code",
   "execution_count": 11,
   "metadata": {},
   "outputs": [],
   "source": [
    "for i in range(len(cardiovascular_data)):\n",
    "    if(not pd.isnull(cardiovascular_data.loc[i, \"DateOfFirstAttendance\"]) and not pd.isnull(cardiovascular_data.loc[i, \"DateOfCardiovascularEvent\"])):\n",
    "        if(cardiovascular_data.loc[i, \"DateOfFirstAttendance\"] > cardiovascular_data.loc[i, \"DateOfCardiovascularEvent\"]):\n",
    "            cardiovascular_data.drop(i, inplace=True)"
   ]
  },
  {
   "cell_type": "code",
   "execution_count": 17,
   "metadata": {},
   "outputs": [
    {
     "data": {
      "text/plain": [
       "271437   2022-12-16\n",
       "29696    2022-12-01\n",
       "309012   2022-11-29\n",
       "136761   2022-11-27\n",
       "62849    2022-11-27\n",
       "            ...    \n",
       "477566          NaT\n",
       "477567          NaT\n",
       "477568          NaT\n",
       "477570          NaT\n",
       "477572          NaT\n",
       "Name: DateOfCardiovascularEvent, Length: 393718, dtype: datetime64[ns]"
      ]
     },
     "execution_count": 17,
     "metadata": {},
     "output_type": "execute_result"
    }
   ],
   "source": [
    "cardiovascular_data[\"DateOfCardiovascularEvent\"].sort_values(ascending=False)"
   ]
  },
  {
   "cell_type": "code",
   "execution_count": 13,
   "metadata": {},
   "outputs": [],
   "source": [
    "cardiovascular_data.dropna(subset=[\"Age\", \"Sex\", \"SBP\", \"Cholesterol\", \"HDL\", \"LDL\", \"SmokingStatus\"], inplace=True)"
   ]
  },
  {
   "cell_type": "code",
   "execution_count": null,
   "metadata": {},
   "outputs": [],
   "source": [
    "cardiovascular_data"
   ]
  },
  {
   "cell_type": "code",
   "execution_count": 18,
   "metadata": {},
   "outputs": [],
   "source": [
    "cardiovascular_data[\"diff_in_days\"] = pd.to_datetime(\"2022-12-16\") - pd.to_datetime(\"2006-03-13\")"
   ]
  },
  {
   "cell_type": "code",
   "execution_count": 19,
   "metadata": {},
   "outputs": [],
   "source": [
    "cardiovascular_data.reset_index(inplace=True, drop=True)"
   ]
  },
  {
   "cell_type": "code",
   "execution_count": 20,
   "metadata": {},
   "outputs": [],
   "source": [
    "for i in range(len(cardiovascular_data)):\n",
    "    if(not pd.isnull(cardiovascular_data.loc[i, \"DateOfFirstAttendance\"]) and not pd.isnull(cardiovascular_data.loc[i, \"DateOfCardiovascularEvent\"])):\n",
    "        cardiovascular_data.loc[i, \"diff_in_days\"] = cardiovascular_data.loc[i, \"DateOfCardiovascularEvent\"] - cardiovascular_data.loc[i, \"DateOfFirstAttendance\"]"
   ]
  },
  {
   "cell_type": "code",
   "execution_count": 21,
   "metadata": {},
   "outputs": [
    {
     "data": {
      "text/plain": [
       "Timedelta('2205 days 00:00:00')"
      ]
     },
     "execution_count": 21,
     "metadata": {},
     "output_type": "execute_result"
    }
   ],
   "source": [
    "cardiovascular_data.loc[1, \"DateOfCardiovascularEvent\"] - cardiovascular_data.loc[1, \"DateOfFirstAttendance\"]"
   ]
  },
  {
   "cell_type": "code",
   "execution_count": 22,
   "metadata": {},
   "outputs": [
    {
     "data": {
      "text/html": [
       "<div>\n",
       "<style scoped>\n",
       "    .dataframe tbody tr th:only-of-type {\n",
       "        vertical-align: middle;\n",
       "    }\n",
       "\n",
       "    .dataframe tbody tr th {\n",
       "        vertical-align: top;\n",
       "    }\n",
       "\n",
       "    .dataframe thead th {\n",
       "        text-align: right;\n",
       "    }\n",
       "</style>\n",
       "<table border=\"1\" class=\"dataframe\">\n",
       "  <thead>\n",
       "    <tr style=\"text-align: right;\">\n",
       "      <th></th>\n",
       "      <th>Age</th>\n",
       "      <th>Sex</th>\n",
       "      <th>SBP</th>\n",
       "      <th>Cholesterol</th>\n",
       "      <th>HDL</th>\n",
       "      <th>LDL</th>\n",
       "      <th>SmokingStatus</th>\n",
       "      <th>DateOfFirstAttendance</th>\n",
       "      <th>DateOfCardiovascularEvent</th>\n",
       "      <th>diff_in_days</th>\n",
       "    </tr>\n",
       "  </thead>\n",
       "  <tbody>\n",
       "    <tr>\n",
       "      <th>0</th>\n",
       "      <td>65</td>\n",
       "      <td>F</td>\n",
       "      <td>187.0</td>\n",
       "      <td>6.515</td>\n",
       "      <td>1.546</td>\n",
       "      <td>4.115</td>\n",
       "      <td>0.0</td>\n",
       "      <td>2009-05-27</td>\n",
       "      <td>NaT</td>\n",
       "      <td>6122 days</td>\n",
       "    </tr>\n",
       "    <tr>\n",
       "      <th>1</th>\n",
       "      <td>64</td>\n",
       "      <td>M</td>\n",
       "      <td>138.0</td>\n",
       "      <td>6.633</td>\n",
       "      <td>1.239</td>\n",
       "      <td>4.336</td>\n",
       "      <td>1.0</td>\n",
       "      <td>2009-06-26</td>\n",
       "      <td>2015-07-10</td>\n",
       "      <td>2205 days</td>\n",
       "    </tr>\n",
       "    <tr>\n",
       "      <th>2</th>\n",
       "      <td>45</td>\n",
       "      <td>F</td>\n",
       "      <td>105.0</td>\n",
       "      <td>5.034</td>\n",
       "      <td>2.292</td>\n",
       "      <td>2.655</td>\n",
       "      <td>0.0</td>\n",
       "      <td>2009-11-09</td>\n",
       "      <td>NaT</td>\n",
       "      <td>6122 days</td>\n",
       "    </tr>\n",
       "    <tr>\n",
       "      <th>3</th>\n",
       "      <td>57</td>\n",
       "      <td>M</td>\n",
       "      <td>126.0</td>\n",
       "      <td>5.678</td>\n",
       "      <td>1.125</td>\n",
       "      <td>3.912</td>\n",
       "      <td>1.0</td>\n",
       "      <td>2008-09-26</td>\n",
       "      <td>NaT</td>\n",
       "      <td>6122 days</td>\n",
       "    </tr>\n",
       "    <tr>\n",
       "      <th>4</th>\n",
       "      <td>66</td>\n",
       "      <td>F</td>\n",
       "      <td>115.0</td>\n",
       "      <td>5.095</td>\n",
       "      <td>2.296</td>\n",
       "      <td>2.359</td>\n",
       "      <td>1.0</td>\n",
       "      <td>2010-06-30</td>\n",
       "      <td>NaT</td>\n",
       "      <td>6122 days</td>\n",
       "    </tr>\n",
       "    <tr>\n",
       "      <th>...</th>\n",
       "      <td>...</td>\n",
       "      <td>...</td>\n",
       "      <td>...</td>\n",
       "      <td>...</td>\n",
       "      <td>...</td>\n",
       "      <td>...</td>\n",
       "      <td>...</td>\n",
       "      <td>...</td>\n",
       "      <td>...</td>\n",
       "      <td>...</td>\n",
       "    </tr>\n",
       "    <tr>\n",
       "      <th>393713</th>\n",
       "      <td>45</td>\n",
       "      <td>F</td>\n",
       "      <td>152.0</td>\n",
       "      <td>5.994</td>\n",
       "      <td>1.243</td>\n",
       "      <td>4.057</td>\n",
       "      <td>0.0</td>\n",
       "      <td>2009-12-09</td>\n",
       "      <td>NaT</td>\n",
       "      <td>6122 days</td>\n",
       "    </tr>\n",
       "    <tr>\n",
       "      <th>393714</th>\n",
       "      <td>58</td>\n",
       "      <td>M</td>\n",
       "      <td>126.0</td>\n",
       "      <td>4.493</td>\n",
       "      <td>1.018</td>\n",
       "      <td>2.733</td>\n",
       "      <td>1.0</td>\n",
       "      <td>2008-03-14</td>\n",
       "      <td>NaT</td>\n",
       "      <td>6122 days</td>\n",
       "    </tr>\n",
       "    <tr>\n",
       "      <th>393715</th>\n",
       "      <td>68</td>\n",
       "      <td>M</td>\n",
       "      <td>202.0</td>\n",
       "      <td>5.241</td>\n",
       "      <td>1.054</td>\n",
       "      <td>3.467</td>\n",
       "      <td>0.0</td>\n",
       "      <td>2008-08-28</td>\n",
       "      <td>2011-12-11</td>\n",
       "      <td>1200 days</td>\n",
       "    </tr>\n",
       "    <tr>\n",
       "      <th>393716</th>\n",
       "      <td>58</td>\n",
       "      <td>F</td>\n",
       "      <td>123.0</td>\n",
       "      <td>5.894</td>\n",
       "      <td>1.651</td>\n",
       "      <td>3.085</td>\n",
       "      <td>1.0</td>\n",
       "      <td>2008-10-11</td>\n",
       "      <td>NaT</td>\n",
       "      <td>6122 days</td>\n",
       "    </tr>\n",
       "    <tr>\n",
       "      <th>393717</th>\n",
       "      <td>58</td>\n",
       "      <td>M</td>\n",
       "      <td>143.0</td>\n",
       "      <td>5.217</td>\n",
       "      <td>0.914</td>\n",
       "      <td>3.232</td>\n",
       "      <td>1.0</td>\n",
       "      <td>2010-03-09</td>\n",
       "      <td>NaT</td>\n",
       "      <td>6122 days</td>\n",
       "    </tr>\n",
       "  </tbody>\n",
       "</table>\n",
       "<p>393718 rows × 10 columns</p>\n",
       "</div>"
      ],
      "text/plain": [
       "        Age Sex    SBP  Cholesterol    HDL    LDL  SmokingStatus   \n",
       "0        65   F  187.0        6.515  1.546  4.115            0.0  \\\n",
       "1        64   M  138.0        6.633  1.239  4.336            1.0   \n",
       "2        45   F  105.0        5.034  2.292  2.655            0.0   \n",
       "3        57   M  126.0        5.678  1.125  3.912            1.0   \n",
       "4        66   F  115.0        5.095  2.296  2.359            1.0   \n",
       "...     ...  ..    ...          ...    ...    ...            ...   \n",
       "393713   45   F  152.0        5.994  1.243  4.057            0.0   \n",
       "393714   58   M  126.0        4.493  1.018  2.733            1.0   \n",
       "393715   68   M  202.0        5.241  1.054  3.467            0.0   \n",
       "393716   58   F  123.0        5.894  1.651  3.085            1.0   \n",
       "393717   58   M  143.0        5.217  0.914  3.232            1.0   \n",
       "\n",
       "       DateOfFirstAttendance DateOfCardiovascularEvent diff_in_days  \n",
       "0                 2009-05-27                       NaT    6122 days  \n",
       "1                 2009-06-26                2015-07-10    2205 days  \n",
       "2                 2009-11-09                       NaT    6122 days  \n",
       "3                 2008-09-26                       NaT    6122 days  \n",
       "4                 2010-06-30                       NaT    6122 days  \n",
       "...                      ...                       ...          ...  \n",
       "393713            2009-12-09                       NaT    6122 days  \n",
       "393714            2008-03-14                       NaT    6122 days  \n",
       "393715            2008-08-28                2011-12-11    1200 days  \n",
       "393716            2008-10-11                       NaT    6122 days  \n",
       "393717            2010-03-09                       NaT    6122 days  \n",
       "\n",
       "[393718 rows x 10 columns]"
      ]
     },
     "execution_count": 22,
     "metadata": {},
     "output_type": "execute_result"
    }
   ],
   "source": [
    "cardiovascular_data"
   ]
  },
  {
   "cell_type": "markdown",
   "metadata": {},
   "source": [
    "### 3 Berechnung der $\\delta$"
   ]
  },
  {
   "cell_type": "code",
   "execution_count": 23,
   "metadata": {},
   "outputs": [],
   "source": [
    "cardiovascular_data[\"delta\"] = 10\n",
    "for i in range(len(cardiovascular_data)):\n",
    "    if(pd.isnull(cardiovascular_data.loc[i, \"DateOfCardiovascularEvent\"])):\n",
    "        cardiovascular_data.loc[i, \"delta\"] = 0\n",
    "    else:\n",
    "        cardiovascular_data.loc[i, \"delta\"] = 1"
   ]
  },
  {
   "cell_type": "code",
   "execution_count": 24,
   "metadata": {},
   "outputs": [],
   "source": [
    "cardiovascular_data.drop([\"DateOfCardiovascularEvent\", \"DateOfFirstAttendance\"], axis=1, inplace=True)"
   ]
  },
  {
   "cell_type": "code",
   "execution_count": 25,
   "metadata": {},
   "outputs": [],
   "source": [
    "cardiovascular_data[\"diff_in_days\"] = cardiovascular_data[\"diff_in_days\"].dt.days.astype(float)"
   ]
  },
  {
   "cell_type": "code",
   "execution_count": 26,
   "metadata": {},
   "outputs": [],
   "source": [
    "cardiovascular_data.to_csv(\"cvd_cleaned.csv\")"
   ]
  },
  {
   "cell_type": "markdown",
   "metadata": {},
   "source": [
    "### 4 Simulation unterschiedlicher Zensierungsraten (10%, 25%, 50% & 75)"
   ]
  },
  {
   "cell_type": "code",
   "execution_count": 2,
   "metadata": {},
   "outputs": [
    {
     "data": {
      "text/html": [
       "<div>\n",
       "<style scoped>\n",
       "    .dataframe tbody tr th:only-of-type {\n",
       "        vertical-align: middle;\n",
       "    }\n",
       "\n",
       "    .dataframe tbody tr th {\n",
       "        vertical-align: top;\n",
       "    }\n",
       "\n",
       "    .dataframe thead th {\n",
       "        text-align: right;\n",
       "    }\n",
       "</style>\n",
       "<table border=\"1\" class=\"dataframe\">\n",
       "  <thead>\n",
       "    <tr style=\"text-align: right;\">\n",
       "      <th></th>\n",
       "      <th>Age</th>\n",
       "      <th>Sex</th>\n",
       "      <th>SBP</th>\n",
       "      <th>Cholesterol</th>\n",
       "      <th>HDL</th>\n",
       "      <th>LDL</th>\n",
       "      <th>SmokingStatus</th>\n",
       "      <th>diff_in_days</th>\n",
       "      <th>delta</th>\n",
       "    </tr>\n",
       "  </thead>\n",
       "  <tbody>\n",
       "    <tr>\n",
       "      <th>0</th>\n",
       "      <td>65</td>\n",
       "      <td>F</td>\n",
       "      <td>187.0</td>\n",
       "      <td>6.515</td>\n",
       "      <td>1.546</td>\n",
       "      <td>4.115</td>\n",
       "      <td>0.0</td>\n",
       "      <td>6122.0</td>\n",
       "      <td>0</td>\n",
       "    </tr>\n",
       "    <tr>\n",
       "      <th>1</th>\n",
       "      <td>64</td>\n",
       "      <td>M</td>\n",
       "      <td>138.0</td>\n",
       "      <td>6.633</td>\n",
       "      <td>1.239</td>\n",
       "      <td>4.336</td>\n",
       "      <td>1.0</td>\n",
       "      <td>2205.0</td>\n",
       "      <td>1</td>\n",
       "    </tr>\n",
       "    <tr>\n",
       "      <th>2</th>\n",
       "      <td>45</td>\n",
       "      <td>F</td>\n",
       "      <td>105.0</td>\n",
       "      <td>5.034</td>\n",
       "      <td>2.292</td>\n",
       "      <td>2.655</td>\n",
       "      <td>0.0</td>\n",
       "      <td>6122.0</td>\n",
       "      <td>0</td>\n",
       "    </tr>\n",
       "    <tr>\n",
       "      <th>3</th>\n",
       "      <td>57</td>\n",
       "      <td>M</td>\n",
       "      <td>126.0</td>\n",
       "      <td>5.678</td>\n",
       "      <td>1.125</td>\n",
       "      <td>3.912</td>\n",
       "      <td>1.0</td>\n",
       "      <td>6122.0</td>\n",
       "      <td>0</td>\n",
       "    </tr>\n",
       "    <tr>\n",
       "      <th>4</th>\n",
       "      <td>66</td>\n",
       "      <td>F</td>\n",
       "      <td>115.0</td>\n",
       "      <td>5.095</td>\n",
       "      <td>2.296</td>\n",
       "      <td>2.359</td>\n",
       "      <td>1.0</td>\n",
       "      <td>6122.0</td>\n",
       "      <td>0</td>\n",
       "    </tr>\n",
       "    <tr>\n",
       "      <th>...</th>\n",
       "      <td>...</td>\n",
       "      <td>...</td>\n",
       "      <td>...</td>\n",
       "      <td>...</td>\n",
       "      <td>...</td>\n",
       "      <td>...</td>\n",
       "      <td>...</td>\n",
       "      <td>...</td>\n",
       "      <td>...</td>\n",
       "    </tr>\n",
       "    <tr>\n",
       "      <th>393713</th>\n",
       "      <td>45</td>\n",
       "      <td>F</td>\n",
       "      <td>152.0</td>\n",
       "      <td>5.994</td>\n",
       "      <td>1.243</td>\n",
       "      <td>4.057</td>\n",
       "      <td>0.0</td>\n",
       "      <td>6122.0</td>\n",
       "      <td>0</td>\n",
       "    </tr>\n",
       "    <tr>\n",
       "      <th>393714</th>\n",
       "      <td>58</td>\n",
       "      <td>M</td>\n",
       "      <td>126.0</td>\n",
       "      <td>4.493</td>\n",
       "      <td>1.018</td>\n",
       "      <td>2.733</td>\n",
       "      <td>1.0</td>\n",
       "      <td>6122.0</td>\n",
       "      <td>0</td>\n",
       "    </tr>\n",
       "    <tr>\n",
       "      <th>393715</th>\n",
       "      <td>68</td>\n",
       "      <td>M</td>\n",
       "      <td>202.0</td>\n",
       "      <td>5.241</td>\n",
       "      <td>1.054</td>\n",
       "      <td>3.467</td>\n",
       "      <td>0.0</td>\n",
       "      <td>1200.0</td>\n",
       "      <td>1</td>\n",
       "    </tr>\n",
       "    <tr>\n",
       "      <th>393716</th>\n",
       "      <td>58</td>\n",
       "      <td>F</td>\n",
       "      <td>123.0</td>\n",
       "      <td>5.894</td>\n",
       "      <td>1.651</td>\n",
       "      <td>3.085</td>\n",
       "      <td>1.0</td>\n",
       "      <td>6122.0</td>\n",
       "      <td>0</td>\n",
       "    </tr>\n",
       "    <tr>\n",
       "      <th>393717</th>\n",
       "      <td>58</td>\n",
       "      <td>M</td>\n",
       "      <td>143.0</td>\n",
       "      <td>5.217</td>\n",
       "      <td>0.914</td>\n",
       "      <td>3.232</td>\n",
       "      <td>1.0</td>\n",
       "      <td>6122.0</td>\n",
       "      <td>0</td>\n",
       "    </tr>\n",
       "  </tbody>\n",
       "</table>\n",
       "<p>393718 rows × 9 columns</p>\n",
       "</div>"
      ],
      "text/plain": [
       "        Age Sex    SBP  Cholesterol    HDL    LDL  SmokingStatus   \n",
       "0        65   F  187.0        6.515  1.546  4.115            0.0  \\\n",
       "1        64   M  138.0        6.633  1.239  4.336            1.0   \n",
       "2        45   F  105.0        5.034  2.292  2.655            0.0   \n",
       "3        57   M  126.0        5.678  1.125  3.912            1.0   \n",
       "4        66   F  115.0        5.095  2.296  2.359            1.0   \n",
       "...     ...  ..    ...          ...    ...    ...            ...   \n",
       "393713   45   F  152.0        5.994  1.243  4.057            0.0   \n",
       "393714   58   M  126.0        4.493  1.018  2.733            1.0   \n",
       "393715   68   M  202.0        5.241  1.054  3.467            0.0   \n",
       "393716   58   F  123.0        5.894  1.651  3.085            1.0   \n",
       "393717   58   M  143.0        5.217  0.914  3.232            1.0   \n",
       "\n",
       "        diff_in_days  delta  \n",
       "0             6122.0      0  \n",
       "1             2205.0      1  \n",
       "2             6122.0      0  \n",
       "3             6122.0      0  \n",
       "4             6122.0      0  \n",
       "...              ...    ...  \n",
       "393713        6122.0      0  \n",
       "393714        6122.0      0  \n",
       "393715        1200.0      1  \n",
       "393716        6122.0      0  \n",
       "393717        6122.0      0  \n",
       "\n",
       "[393718 rows x 9 columns]"
      ]
     },
     "execution_count": 2,
     "metadata": {},
     "output_type": "execute_result"
    }
   ],
   "source": [
    "cvd_cleaned = pd.read_csv(\"cvd_cleaned.csv\", usecols=[\"Age\", \"Sex\", \"SBP\", \"Cholesterol\", \"HDL\", \"LDL\", \"SmokingStatus\", \"diff_in_days\", \"delta\"])\n",
    "cvd_cleaned"
   ]
  },
  {
   "cell_type": "markdown",
   "metadata": {},
   "source": [
    "Änderung der diff_in_days Spalte in Jahre, der Spaltenname bleibt aus codetechnischen Gründen aber bestehen."
   ]
  },
  {
   "cell_type": "code",
   "execution_count": 3,
   "metadata": {},
   "outputs": [
    {
     "data": {
      "text/html": [
       "<div>\n",
       "<style scoped>\n",
       "    .dataframe tbody tr th:only-of-type {\n",
       "        vertical-align: middle;\n",
       "    }\n",
       "\n",
       "    .dataframe tbody tr th {\n",
       "        vertical-align: top;\n",
       "    }\n",
       "\n",
       "    .dataframe thead th {\n",
       "        text-align: right;\n",
       "    }\n",
       "</style>\n",
       "<table border=\"1\" class=\"dataframe\">\n",
       "  <thead>\n",
       "    <tr style=\"text-align: right;\">\n",
       "      <th></th>\n",
       "      <th>Age</th>\n",
       "      <th>Sex</th>\n",
       "      <th>SBP</th>\n",
       "      <th>Cholesterol</th>\n",
       "      <th>HDL</th>\n",
       "      <th>LDL</th>\n",
       "      <th>SmokingStatus</th>\n",
       "      <th>diff_in_days</th>\n",
       "      <th>delta</th>\n",
       "    </tr>\n",
       "  </thead>\n",
       "  <tbody>\n",
       "    <tr>\n",
       "      <th>0</th>\n",
       "      <td>65</td>\n",
       "      <td>F</td>\n",
       "      <td>187.0</td>\n",
       "      <td>6.515</td>\n",
       "      <td>1.546</td>\n",
       "      <td>4.115</td>\n",
       "      <td>0.0</td>\n",
       "      <td>16.772603</td>\n",
       "      <td>0</td>\n",
       "    </tr>\n",
       "    <tr>\n",
       "      <th>1</th>\n",
       "      <td>64</td>\n",
       "      <td>M</td>\n",
       "      <td>138.0</td>\n",
       "      <td>6.633</td>\n",
       "      <td>1.239</td>\n",
       "      <td>4.336</td>\n",
       "      <td>1.0</td>\n",
       "      <td>6.041096</td>\n",
       "      <td>1</td>\n",
       "    </tr>\n",
       "    <tr>\n",
       "      <th>2</th>\n",
       "      <td>45</td>\n",
       "      <td>F</td>\n",
       "      <td>105.0</td>\n",
       "      <td>5.034</td>\n",
       "      <td>2.292</td>\n",
       "      <td>2.655</td>\n",
       "      <td>0.0</td>\n",
       "      <td>16.772603</td>\n",
       "      <td>0</td>\n",
       "    </tr>\n",
       "    <tr>\n",
       "      <th>3</th>\n",
       "      <td>57</td>\n",
       "      <td>M</td>\n",
       "      <td>126.0</td>\n",
       "      <td>5.678</td>\n",
       "      <td>1.125</td>\n",
       "      <td>3.912</td>\n",
       "      <td>1.0</td>\n",
       "      <td>16.772603</td>\n",
       "      <td>0</td>\n",
       "    </tr>\n",
       "    <tr>\n",
       "      <th>4</th>\n",
       "      <td>66</td>\n",
       "      <td>F</td>\n",
       "      <td>115.0</td>\n",
       "      <td>5.095</td>\n",
       "      <td>2.296</td>\n",
       "      <td>2.359</td>\n",
       "      <td>1.0</td>\n",
       "      <td>16.772603</td>\n",
       "      <td>0</td>\n",
       "    </tr>\n",
       "    <tr>\n",
       "      <th>...</th>\n",
       "      <td>...</td>\n",
       "      <td>...</td>\n",
       "      <td>...</td>\n",
       "      <td>...</td>\n",
       "      <td>...</td>\n",
       "      <td>...</td>\n",
       "      <td>...</td>\n",
       "      <td>...</td>\n",
       "      <td>...</td>\n",
       "    </tr>\n",
       "    <tr>\n",
       "      <th>393713</th>\n",
       "      <td>45</td>\n",
       "      <td>F</td>\n",
       "      <td>152.0</td>\n",
       "      <td>5.994</td>\n",
       "      <td>1.243</td>\n",
       "      <td>4.057</td>\n",
       "      <td>0.0</td>\n",
       "      <td>16.772603</td>\n",
       "      <td>0</td>\n",
       "    </tr>\n",
       "    <tr>\n",
       "      <th>393714</th>\n",
       "      <td>58</td>\n",
       "      <td>M</td>\n",
       "      <td>126.0</td>\n",
       "      <td>4.493</td>\n",
       "      <td>1.018</td>\n",
       "      <td>2.733</td>\n",
       "      <td>1.0</td>\n",
       "      <td>16.772603</td>\n",
       "      <td>0</td>\n",
       "    </tr>\n",
       "    <tr>\n",
       "      <th>393715</th>\n",
       "      <td>68</td>\n",
       "      <td>M</td>\n",
       "      <td>202.0</td>\n",
       "      <td>5.241</td>\n",
       "      <td>1.054</td>\n",
       "      <td>3.467</td>\n",
       "      <td>0.0</td>\n",
       "      <td>3.287671</td>\n",
       "      <td>1</td>\n",
       "    </tr>\n",
       "    <tr>\n",
       "      <th>393716</th>\n",
       "      <td>58</td>\n",
       "      <td>F</td>\n",
       "      <td>123.0</td>\n",
       "      <td>5.894</td>\n",
       "      <td>1.651</td>\n",
       "      <td>3.085</td>\n",
       "      <td>1.0</td>\n",
       "      <td>16.772603</td>\n",
       "      <td>0</td>\n",
       "    </tr>\n",
       "    <tr>\n",
       "      <th>393717</th>\n",
       "      <td>58</td>\n",
       "      <td>M</td>\n",
       "      <td>143.0</td>\n",
       "      <td>5.217</td>\n",
       "      <td>0.914</td>\n",
       "      <td>3.232</td>\n",
       "      <td>1.0</td>\n",
       "      <td>16.772603</td>\n",
       "      <td>0</td>\n",
       "    </tr>\n",
       "  </tbody>\n",
       "</table>\n",
       "<p>393718 rows × 9 columns</p>\n",
       "</div>"
      ],
      "text/plain": [
       "        Age Sex    SBP  Cholesterol    HDL    LDL  SmokingStatus   \n",
       "0        65   F  187.0        6.515  1.546  4.115            0.0  \\\n",
       "1        64   M  138.0        6.633  1.239  4.336            1.0   \n",
       "2        45   F  105.0        5.034  2.292  2.655            0.0   \n",
       "3        57   M  126.0        5.678  1.125  3.912            1.0   \n",
       "4        66   F  115.0        5.095  2.296  2.359            1.0   \n",
       "...     ...  ..    ...          ...    ...    ...            ...   \n",
       "393713   45   F  152.0        5.994  1.243  4.057            0.0   \n",
       "393714   58   M  126.0        4.493  1.018  2.733            1.0   \n",
       "393715   68   M  202.0        5.241  1.054  3.467            0.0   \n",
       "393716   58   F  123.0        5.894  1.651  3.085            1.0   \n",
       "393717   58   M  143.0        5.217  0.914  3.232            1.0   \n",
       "\n",
       "        diff_in_days  delta  \n",
       "0          16.772603      0  \n",
       "1           6.041096      1  \n",
       "2          16.772603      0  \n",
       "3          16.772603      0  \n",
       "4          16.772603      0  \n",
       "...              ...    ...  \n",
       "393713     16.772603      0  \n",
       "393714     16.772603      0  \n",
       "393715      3.287671      1  \n",
       "393716     16.772603      0  \n",
       "393717     16.772603      0  \n",
       "\n",
       "[393718 rows x 9 columns]"
      ]
     },
     "execution_count": 3,
     "metadata": {},
     "output_type": "execute_result"
    }
   ],
   "source": [
    "cvd_cleaned[\"diff_in_days\"] = cvd_cleaned[\"diff_in_days\"] / 365\n",
    "cvd_cleaned"
   ]
  },
  {
   "cell_type": "code",
   "execution_count": 4,
   "metadata": {},
   "outputs": [],
   "source": [
    "cvd_table = cvd_cleaned.head().to_latex(\"cvd_table.tex\")"
   ]
  },
  {
   "cell_type": "markdown",
   "metadata": {},
   "source": [
    "Kopie des DataFrames für spätere Zwecke"
   ]
  },
  {
   "cell_type": "code",
   "execution_count": 4,
   "metadata": {},
   "outputs": [],
   "source": [
    "cvd_cleaned_copy = cvd_cleaned.copy()"
   ]
  },
  {
   "cell_type": "markdown",
   "metadata": {},
   "source": [
    "Aktueller Anteil vollständig beobachteter Patienten"
   ]
  },
  {
   "cell_type": "code",
   "execution_count": 5,
   "metadata": {},
   "outputs": [
    {
     "data": {
      "text/plain": [
       "0.062250940927302406"
      ]
     },
     "execution_count": 5,
     "metadata": {},
     "output_type": "execute_result"
    }
   ],
   "source": [
    "cvd_cleaned[\"delta\"].value_counts()[1] / cvd_cleaned[\"delta\"].value_counts()[0]"
   ]
  },
  {
   "cell_type": "code",
   "execution_count": 6,
   "metadata": {},
   "outputs": [],
   "source": [
    "def censor_distribution(data, distribution, RS):\n",
    "    lower_class = data[data[\"delta\"] == 1]\n",
    "    upper_class = data[data[\"delta\"] == 0]\n",
    "    lower_count = len(lower_class)\n",
    "    N = int(lower_count * distribution)\n",
    "\n",
    "    class_balance = upper_class.sample(n=N, random_state=RS)\n",
    "\n",
    "    new_data = pd.concat([lower_class, class_balance])\n",
    "    return new_data"
   ]
  },
  {
   "cell_type": "code",
   "execution_count": 7,
   "metadata": {},
   "outputs": [
    {
     "name": "stdout",
     "output_type": "stream",
     "text": [
      "0.09998699778962424\n",
      "0.24998916482468686\n",
      "0.4999783296493737\n",
      "0.7499674944740606\n"
     ]
    }
   ],
   "source": [
    "cvd_10 = censor_distribution(cvd_cleaned, 0.1, 3)\n",
    "print(cvd_10[\"delta\"].value_counts()[0] / cvd_10[\"delta\"].value_counts()[1])\n",
    "cvd_25 = censor_distribution(cvd_cleaned, 0.25, 214124)\n",
    "print(cvd_25[\"delta\"].value_counts()[0] / cvd_25[\"delta\"].value_counts()[1])\n",
    "cvd_50 = censor_distribution(cvd_cleaned, 0.5, 42)\n",
    "print(cvd_50[\"delta\"].value_counts()[0] / cvd_50[\"delta\"].value_counts()[1])\n",
    "cvd_75 = censor_distribution(cvd_cleaned, 0.75, 4134)\n",
    "print(cvd_75[\"delta\"].value_counts()[0] / cvd_75[\"delta\"].value_counts()[1])"
   ]
  },
  {
   "cell_type": "markdown",
   "metadata": {},
   "source": [
    "### 5 Onehot Encoding und Normalisierung der Daten"
   ]
  },
  {
   "cell_type": "code",
   "execution_count": 8,
   "metadata": {},
   "outputs": [],
   "source": [
    "def do_onehot_and_scale(df):\n",
    "    # OneHot Encoding für das Geschlechtsfeature\n",
    "    dummy_df = pd.get_dummies(df[\"Sex\"], prefix=\"Sex\", dtype=\"float\")\n",
    "    df = pd.concat([df, dummy_df], axis=1)\n",
    "    df.drop([\"Sex\"], axis=1, inplace=True)\n",
    "\n",
    "    # # OneHot Encoding für den SmokingStatus\n",
    "    # dummy_df = pd.get_dummies(df[\"SmokingStatus\"], prefix=\"SmokingStatus\", dtype=\"float\")\n",
    "    # df = pd.concat([df, dummy_df], axis=1)\n",
    "    # df.drop([\"SmokingStatus\"], axis=1, inplace=True)\n",
    "\n",
    "    # Normalisierung\n",
    "    scaler = MinMaxScaler()\n",
    "    df[[\"Age\", \"SBP\", \"Cholesterol\", \"HDL\", \"LDL\"]] = scaler.fit_transform(df[[\"Age\", \"SBP\", \"Cholesterol\", \"HDL\", \"LDL\"]])\n",
    "    return df"
   ]
  },
  {
   "cell_type": "code",
   "execution_count": 9,
   "metadata": {},
   "outputs": [],
   "source": [
    "cvd_cleaned = do_onehot_and_scale(cvd_cleaned)\n",
    "cvd_10 = do_onehot_and_scale(cvd_10)\n",
    "cvd_25 = do_onehot_and_scale(cvd_25)\n",
    "cvd_50 = do_onehot_and_scale(cvd_50)\n",
    "cvd_75 = do_onehot_and_scale(cvd_75)"
   ]
  },
  {
   "cell_type": "code",
   "execution_count": 11,
   "metadata": {},
   "outputs": [],
   "source": [
    "cvd_onehot_norm = cvd_cleaned.head().to_latex(\"cvd_onehot_norm.tex\")"
   ]
  },
  {
   "cell_type": "markdown",
   "metadata": {},
   "source": [
    "### 6 Aufteilung in Trainings- und Testdaten"
   ]
  },
  {
   "cell_type": "code",
   "execution_count": 11,
   "metadata": {},
   "outputs": [],
   "source": [
    "def split_data(df, seed, test_size=0.2):\n",
    "    shuffled = df.loc[np.random.RandomState(seed=seed).permutation(df.index)].reset_index(drop=True)\n",
    "    test_df_size = int(len(shuffled) * test_size)\n",
    "    train_df_size = int(len(shuffled) - test_df_size)\n",
    "    df1 = shuffled.iloc[:test_df_size,:]\n",
    "    df2 = shuffled.iloc[test_df_size:train_df_size+test_df_size,:]\n",
    "    return df1, df2"
   ]
  },
  {
   "cell_type": "code",
   "execution_count": 12,
   "metadata": {},
   "outputs": [],
   "source": [
    "test, train = split_data(cvd_cleaned, 4)\n",
    "test10, train10 = split_data(cvd_10, 3434)\n",
    "test25, train25 = split_data(cvd_25, 4534)\n",
    "test50, train50 = split_data(cvd_50, 1236)\n",
    "test75, train75 = split_data(cvd_75, 6456)"
   ]
  },
  {
   "cell_type": "markdown",
   "metadata": {},
   "source": [
    "### 7 Gewichteberechnung"
   ]
  },
  {
   "cell_type": "code",
   "execution_count": 13,
   "metadata": {},
   "outputs": [],
   "source": [
    "def weight_calc(df):\n",
    "    df = df.sort_values(by=\"diff_in_days\", ascending=True).reset_index(drop=True)\n",
    "\n",
    "    # Weight Berechnung über die Surival function des KaplanMeierFitters von lifelines\n",
    "    kmf = KaplanMeierFitter()\n",
    "    kmf.fit(durations=df[\"diff_in_days\"], event_observed=df[\"delta\"], timeline=df[\"diff_in_days\"].unique())\n",
    "    \n",
    "    # Berechnung der timeline für die Gewichte\n",
    "    unique_diffs = pd.Series(df[\"diff_in_days\"].unique())\n",
    "    unique_diffs = pd.DataFrame(unique_diffs, columns=[\"timeline\"])\n",
    "\n",
    "    f_n = (kmf.survival_function_ - 1) * (-1)\n",
    "    merged_df = pd.merge(f_n, unique_diffs, left_index=True, right_on=[\"timeline\"], how=\"inner\")\n",
    "    \n",
    "    # Gewichteberechnung\n",
    "    merged_df[\"weights\"] = 0\n",
    "    for i in range(len(merged_df)-1):\n",
    "        merged_df.loc[i, \"weights\"] = merged_df.loc[i+1, \"KM_estimate\"] - merged_df.loc[i, \"KM_estimate\"]\n",
    "\n",
    "    # Übertragung in das richtige DataFrame\n",
    "    df = pd.merge(df, merged_df, left_on=\"diff_in_days\", right_on=\"timeline\").drop(labels = [\"KM_estimate\",\"timeline\"], axis=1)\n",
    "    \n",
    "    return df"
   ]
  },
  {
   "cell_type": "code",
   "execution_count": 14,
   "metadata": {},
   "outputs": [],
   "source": [
    "train = weight_calc(train)\n",
    "test = weight_calc(test)\n",
    "train10 = weight_calc(train10)\n",
    "test10 = weight_calc(test10)\n",
    "train25 = weight_calc(train25)\n",
    "test25 = weight_calc(test25)\n",
    "train50 = weight_calc(train50)\n",
    "test50 = weight_calc(test50)\n",
    "train75 = weight_calc(train75)\n",
    "test75 = weight_calc(test75)"
   ]
  },
  {
   "cell_type": "code",
   "execution_count": 15,
   "metadata": {},
   "outputs": [
    {
     "name": "stdout",
     "output_type": "stream",
     "text": [
      "Train Weightssum:  0.005416302881172674 n= 314975\n",
      "Test Weightssum:  0.0041908487103583525 n= 78743\n",
      "Train10 Weightssum:  0.060923955870771596 n= 20304\n",
      "Test10 Weightssum:  0.05023640661939077 n= 5076\n",
      "Train25 Weightssum:  0.05439258007194969 n= 23073\n",
      "Test25 Weightssum:  0.04993065187240586 n= 5768\n",
      "Train50 Weightssum:  0.04993065187240586 n= 27688\n",
      "Test50 Weightssum:  0.04233492269903272 n= 6921\n",
      "Train75 Weightssum:  0.043000433409686734 n= 32302\n",
      "Test75 Weightssum:  0.03690402476779886 n= 8075\n"
     ]
    }
   ],
   "source": [
    "print(\"Train Weightssum: \", train[\"weights\"].unique().sum(), \"n=\", len(train))\n",
    "print(\"Test Weightssum: \", test[\"weights\"].unique().sum(), \"n=\", len(test))\n",
    "print(\"Train10 Weightssum: \", train10[\"weights\"].unique().sum(), \"n=\", len(train10))\n",
    "print(\"Test10 Weightssum: \", test10[\"weights\"].unique().sum(), \"n=\", len(test10))\n",
    "print(\"Train25 Weightssum: \", train25[\"weights\"].unique().sum(), \"n=\", len(train25))\n",
    "print(\"Test25 Weightssum: \", test25[\"weights\"].unique().sum(), \"n=\", len(test25))\n",
    "print(\"Train50 Weightssum: \", test25[\"weights\"].unique().sum(), \"n=\", len(train50))\n",
    "print(\"Test50 Weightssum: \", test50[\"weights\"].unique().sum(), \"n=\", len(test50))\n",
    "print(\"Train75 Weightssum: \", train75[\"weights\"].unique().sum(), \"n=\", len(train75))\n",
    "print(\"Test75 Weightssum: \", test75[\"weights\"].unique().sum(), \"n=\", len(test75))"
   ]
  },
  {
   "cell_type": "markdown",
   "metadata": {},
   "source": [
    "### 8 Aufteilung in Input-, Target- und Gewichtdaten"
   ]
  },
  {
   "cell_type": "code",
   "execution_count": 15,
   "metadata": {},
   "outputs": [],
   "source": [
    "def split_input_target(df):\n",
    "    df.drop(\"delta\", inplace=True, axis=1)\n",
    "    X = df[[\"Age\", \"SBP\", \"Cholesterol\", \"HDL\", \"LDL\", \"Sex_F\", \"Sex_M\", \"SmokingStatus\"]]\n",
    "    y = tf.constant(df[\"diff_in_days\"], dtype=\"float32\")\n",
    "    weights = tf.constant(df[\"weights\"], dtype=\"float32\")\n",
    "    return X, y, weights"
   ]
  },
  {
   "cell_type": "code",
   "execution_count": 16,
   "metadata": {},
   "outputs": [],
   "source": [
    "X_train, y_train, weights_train = split_input_target(train)\n",
    "X_test, y_test, weights_test = split_input_target(test)\n",
    "X_train10, y_train10, weights_train10 = split_input_target(train10)\n",
    "X_test10, y_test10, weights_test10 = split_input_target(test10)\n",
    "X_train25, y_train25, weights_train25 = split_input_target(train25)\n",
    "X_test25, y_test25, weights_test25 = split_input_target(test25)\n",
    "X_train50, y_train50, weights_train50 = split_input_target(train50)\n",
    "X_test50, y_test50, weights_test50 = split_input_target(test50)\n",
    "X_train75, y_train75, weights_train75 = split_input_target(train75)\n",
    "X_test75, y_test75, weights_test75 = split_input_target(test75)"
   ]
  },
  {
   "cell_type": "markdown",
   "metadata": {},
   "source": [
    "### 9 Erstellung der Neuronalen Netze"
   ]
  },
  {
   "cell_type": "code",
   "execution_count": 16,
   "metadata": {},
   "outputs": [],
   "source": [
    "@keras.saving.register_keras_serializable(package=\"squared_weighted_loss\")\n",
    "class squared_weighted_loss(tf.keras.losses.Loss):\n",
    "\n",
    "    def __init__(self, km_weights):\n",
    "        super().__init__()\n",
    "        self.km_weights = km_weights\n",
    "\n",
    "    def call(self, y_true, y_pred):\n",
    "        squared_loss = tf.square(y_true - y_pred)\n",
    "        custom_loss = tf.reduce_sum(squared_loss * self.km_weights)\n",
    "        return custom_loss\n",
    "    \n",
    "    def get_config(self):\n",
    "        return {\"km_weights\": self.km_weights}\n",
    "\n",
    "    @classmethod\n",
    "    def from_config(cls, config):\n",
    "        weights_config = config.pop(\"km_weights\")\n",
    "        km_weights = keras.saving.deserialize_keras_object(weights_config)\n",
    "        return cls(km_weights, **config)\n"
   ]
  },
  {
   "cell_type": "code",
   "execution_count": 17,
   "metadata": {},
   "outputs": [],
   "source": [
    "def custom_weighted_loss(y_true, y_pred, weights):\n",
    "    squared_loss = tf.square(y_true - y_pred)\n",
    "    custom_loss = tf.reduce_sum(squared_loss * weights)\n",
    "    return custom_loss"
   ]
  },
  {
   "cell_type": "code",
   "execution_count": 18,
   "metadata": {},
   "outputs": [],
   "source": [
    "custom_loss = squared_weighted_loss(km_weights=weights_train)"
   ]
  },
  {
   "cell_type": "code",
   "execution_count": 18,
   "metadata": {},
   "outputs": [
    {
     "name": "stdout",
     "output_type": "stream",
     "text": [
      "WARNING:tensorflow:From c:\\ProgramData\\anaconda3\\Lib\\site-packages\\keras\\src\\backend.py:873: The name tf.get_default_graph is deprecated. Please use tf.compat.v1.get_default_graph instead.\n",
      "\n",
      "WARNING:tensorflow:From c:\\ProgramData\\anaconda3\\Lib\\site-packages\\keras\\src\\optimizers\\__init__.py:309: The name tf.train.Optimizer is deprecated. Please use tf.compat.v1.train.Optimizer instead.\n",
      "\n"
     ]
    }
   ],
   "source": [
    "model = tf.keras.models.Sequential([\n",
    "    tf.keras.layers.Dense(8, input_shape=(8,), activation='relu', dtype=\"float32\"),\n",
    "    tf.keras.layers.Dense(128, activation=\"relu\", dtype=\"float32\"),\n",
    "    tf.keras.layers.Dense(128, activation=\"relu\", dtype=\"float32\"),\n",
    "    tf.keras.layers.Dense(1, activation='linear', dtype=\"float32\")\n",
    "])\n",
    "model.compile(optimizer='adam', loss=\"mean_squared_error\", weighted_metrics=[])"
   ]
  },
  {
   "cell_type": "code",
   "execution_count": 19,
   "metadata": {},
   "outputs": [
    {
     "name": "stdout",
     "output_type": "stream",
     "text": [
      "Epoch 1/5\n",
      "WARNING:tensorflow:From c:\\ProgramData\\anaconda3\\Lib\\site-packages\\keras\\src\\utils\\tf_utils.py:492: The name tf.ragged.RaggedTensorValue is deprecated. Please use tf.compat.v1.ragged.RaggedTensorValue instead.\n",
      "\n",
      "314975/314975 [==============================] - 239s 757us/step - loss: 8.8323e-06\n",
      "Epoch 2/5\n",
      "314975/314975 [==============================] - 233s 741us/step - loss: 8.4275e-06\n",
      "Epoch 3/5\n",
      "314975/314975 [==============================] - 237s 752us/step - loss: 8.4168e-06\n",
      "Epoch 4/5\n",
      "314975/314975 [==============================] - 233s 739us/step - loss: 8.4041e-06\n",
      "Epoch 5/5\n",
      "314975/314975 [==============================] - 231s 732us/step - loss: 8.4032e-06\n"
     ]
    },
    {
     "data": {
      "text/plain": [
       "<keras.src.callbacks.History at 0x2f187f1f4d0>"
      ]
     },
     "execution_count": 19,
     "metadata": {},
     "output_type": "execute_result"
    }
   ],
   "source": [
    "model.fit(x=X_train, y=y_train, epochs=5, batch_size=1, sample_weight=weights_train)"
   ]
  },
  {
   "cell_type": "markdown",
   "metadata": {},
   "source": [
    "### 10 Hyperparametertuning mit KerasTuner"
   ]
  },
  {
   "cell_type": "code",
   "execution_count": 18,
   "metadata": {},
   "outputs": [],
   "source": [
    "def create_base_model(hp):\n",
    "    \n",
    "    model = Sequential()\n",
    "    \n",
    "    model.add(Dense(8, input_dim=8, activation=tf.nn.relu, kernel_initializer=tf.keras.initializers.he_uniform(seed=42)))\n",
    "    # model.add(Dense(128, activation=tf.nn.relu, dtype=\"float32\"))\n",
    "    # model.add(Dense(128, activation=tf.nn.relu, dtype=\"float32\"))\n",
    "    num_layers = hp.Int(\"num_layers\", min_value=1, max_value=5, step=1)\n",
    "    \n",
    "    # Layer, activation, units und Dropoutchoice\n",
    "    for i in range(num_layers):\n",
    "        model.add(keras.layers.Dense(units=hp.Int(f'units_{i}', min_value=32, max_value=512, step=32),\n",
    "                                     activation=hp.Choice(\"activation\", [\"relu\", \"sigmoid\", \"leaky_relu\", \"swish\"])))\n",
    "\n",
    "        use_dropout = hp.Boolean(f'use_dropout_{i}', default=False)\n",
    "        if use_dropout:\n",
    "            # Dropout-Layer mit Dropout-Rate als Hyperparameter\n",
    "            dropout_rate = hp.Float(f'dropout_rate_{i}', min_value=0.0, max_value=0.5, step=0.1, default=0.2)\n",
    "            model.add(keras.layers.Dropout(rate=dropout_rate))\n",
    "    \n",
    "    # Optimizer und Learningrate Choice\n",
    "    optimizer_choice = hp.Choice('optimizer', values=['adam', 'sgd', 'rmsprop', 'adagrad'])\n",
    "    \n",
    "    if optimizer_choice == 'adam':\n",
    "        optimizer = keras.optimizers.Adam(learning_rate=hp.Float('learning_rate_adam', min_value=1e-4, max_value=1e-1, sampling='LOG', default=1e-3))\n",
    "    elif optimizer_choice == 'sgd':\n",
    "        optimizer = keras.optimizers.SGD(learning_rate=hp.Float('learning_rate_sgd', min_value=1e-4, max_value=1e-1, sampling='LOG', default=1e-2))\n",
    "    elif optimizer_choice == \"adagrad\":\n",
    "        optimizer = keras.optimizers.Adagrad(learning_rate=hp.Float('learning_rate_adagrad', min_value=1e-4, max_value=1e-1, sampling='LOG', default=1e-2))\n",
    "    else:\n",
    "        optimizer = keras.optimizers.RMSprop(learning_rate=hp.Float('learning_rate_rmsprop', min_value=1e-4, max_value=1e-1, sampling='LOG', default=1e-3))\n",
    "    \n",
    "    \n",
    "    model.add(keras.layers.Dense(units=1, activation='linear'))\n",
    "    \n",
    "    # custom_loss = squared_weighted_loss(km_weights=weights_train)\n",
    "    model.compile(loss=\"mean_squared_error\", optimizer = optimizer, weighted_metrics=[])\n",
    "    return model"
   ]
  },
  {
   "cell_type": "code",
   "execution_count": 19,
   "metadata": {},
   "outputs": [
    {
     "name": "stdout",
     "output_type": "stream",
     "text": [
      "WARNING:tensorflow:From c:\\ProgramData\\anaconda3\\Lib\\site-packages\\keras\\src\\backend.py:873: The name tf.get_default_graph is deprecated. Please use tf.compat.v1.get_default_graph instead.\n",
      "\n"
     ]
    }
   ],
   "source": [
    "tuner = GridSearch(\n",
    "    create_base_model,\n",
    "    objective=Objective(\"loss\", direction=\"min\"),\n",
    "    max_trials=100,\n",
    "    directory=\"/nn_survival_analysis20/\",\n",
    "    project_name='my_tuning_project'\n",
    ")"
   ]
  },
  {
   "cell_type": "code",
   "execution_count": 20,
   "metadata": {},
   "outputs": [],
   "source": [
    "tuner3 = RandomSearch(\n",
    "    create_base_model,\n",
    "    objective=Objective(\"loss\", direction=\"min\"),\n",
    "    max_trials=100,\n",
    "    directory=\"/nn_survival_analysis21/\",\n",
    "    project_name='my_tuning_project'\n",
    ")"
   ]
  },
  {
   "cell_type": "code",
   "execution_count": 21,
   "metadata": {},
   "outputs": [],
   "source": [
    "stop_early = tf.keras.callbacks.EarlyStopping(monitor='loss', patience=1, min_delta=0.001, start_from_epoch=2)\n",
    "stop_early_nan = tf.keras.callbacks.TerminateOnNaN()"
   ]
  },
  {
   "cell_type": "code",
   "execution_count": 22,
   "metadata": {},
   "outputs": [
    {
     "name": "stdout",
     "output_type": "stream",
     "text": [
      "Trial 100 Complete [00h 01m 09s]\n",
      "loss: 6.132569251349196e-05\n",
      "\n",
      "Best loss So Far: 8.315152626892086e-06\n",
      "Total elapsed time: 01h 55m 03s\n"
     ]
    }
   ],
   "source": [
    "tuner.search(x=X_train, \n",
    "             y=y_train, \n",
    "             epochs=10, \n",
    "             validation_data=(X_test, y_test), \n",
    "             batch_size=16,\n",
    "             callbacks=[stop_early, stop_early_nan],\n",
    "             sample_weight=weights_train)"
   ]
  },
  {
   "cell_type": "code",
   "execution_count": 23,
   "metadata": {},
   "outputs": [
    {
     "name": "stdout",
     "output_type": "stream",
     "text": [
      "Trial 100 Complete [00h 01m 22s]\n",
      "loss: 5.021597826271318e-05\n",
      "\n",
      "Best loss So Far: 8.289927791338414e-06\n",
      "Total elapsed time: 03h 12m 16s\n"
     ]
    }
   ],
   "source": [
    "tuner3.search(\n",
    "    x=X_train,\n",
    "    y = y_train,\n",
    "    epochs=10,\n",
    "    validation_data=(X_test, y_test),\n",
    "    batch_size=16,\n",
    "    callbacks=[stop_early, stop_early_nan],\n",
    "    sample_weight=weights_train\n",
    ")"
   ]
  },
  {
   "cell_type": "code",
   "execution_count": 30,
   "metadata": {},
   "outputs": [],
   "source": [
    "best_hps3 = tuner.get_best_hyperparameters(5)\n",
    "model = create_base_model(best_hps3[0])\n",
    "model.save(\"gridsearch.keras\")"
   ]
  },
  {
   "cell_type": "code",
   "execution_count": 39,
   "metadata": {},
   "outputs": [
    {
     "name": "stdout",
     "output_type": "stream",
     "text": [
      "Results summary\n",
      "Results in /nn_survival_analysis20/my_tuning_project\n",
      "Showing 1 best trials\n",
      "Objective(name=\"loss\", direction=\"min\")\n",
      "\n",
      "Trial 010 summary\n",
      "Hyperparameters:\n",
      "num_layers: 1\n",
      "units_0: 32\n",
      "activation: relu\n",
      "use_dropout_0: False\n",
      "optimizer: adam\n",
      "learning_rate_adam: 0.00028183829312644545\n",
      "Score: 8.315152626892086e-06\n"
     ]
    }
   ],
   "source": [
    "tuner.results_summary(1)"
   ]
  },
  {
   "cell_type": "code",
   "execution_count": 33,
   "metadata": {},
   "outputs": [
    {
     "name": "stderr",
     "output_type": "stream",
     "text": [
      "WARNING:absl:Skipping variable loading for optimizer 'Adam', because it has 13 variables whereas the saved optimizer has 1 variables. \n"
     ]
    }
   ],
   "source": [
    "gridsearch_model = tf.keras.models.load_model(\"gridsearch.keras\")"
   ]
  },
  {
   "cell_type": "code",
   "execution_count": 29,
   "metadata": {},
   "outputs": [],
   "source": [
    "best_hps = tuner3.get_best_hyperparameters(5)\n",
    "model = create_base_model(best_hps[0])\n",
    "model.save(\"randomsearch.keras\")"
   ]
  },
  {
   "cell_type": "code",
   "execution_count": 31,
   "metadata": {},
   "outputs": [
    {
     "name": "stderr",
     "output_type": "stream",
     "text": [
      "WARNING:absl:Skipping variable loading for optimizer 'Adam', because it has 13 variables whereas the saved optimizer has 1 variables. \n"
     ]
    }
   ],
   "source": [
    "random_search_model = tf.keras.models.load_model(\"randomsearch.keras\")"
   ]
  },
  {
   "cell_type": "code",
   "execution_count": 40,
   "metadata": {},
   "outputs": [
    {
     "name": "stdout",
     "output_type": "stream",
     "text": [
      "Results summary\n",
      "Results in /nn_survival_analysis21/my_tuning_project\n",
      "Showing 1 best trials\n",
      "Objective(name=\"loss\", direction=\"min\")\n",
      "\n",
      "Trial 029 summary\n",
      "Hyperparameters:\n",
      "num_layers: 1\n",
      "units_0: 384\n",
      "activation: sigmoid\n",
      "use_dropout_0: True\n",
      "optimizer: adam\n",
      "learning_rate_adam: 0.010066872951858362\n",
      "units_1: 96\n",
      "use_dropout_1: False\n",
      "learning_rate_sgd: 0.008463787018388728\n",
      "dropout_rate_1: 0.1\n",
      "units_2: 160\n",
      "use_dropout_2: True\n",
      "units_3: 448\n",
      "use_dropout_3: False\n",
      "units_4: 96\n",
      "use_dropout_4: False\n",
      "learning_rate_adagrad: 0.0964958086533842\n",
      "dropout_rate_2: 0.4\n",
      "learning_rate_rmsprop: 0.00017762922812496933\n",
      "dropout_rate_3: 0.0\n",
      "dropout_rate_0: 0.30000000000000004\n",
      "dropout_rate_4: 0.4\n",
      "Score: 8.289927791338414e-06\n"
     ]
    }
   ],
   "source": [
    "tuner3.results_summary(1)"
   ]
  },
  {
   "cell_type": "code",
   "execution_count": 34,
   "metadata": {},
   "outputs": [
    {
     "name": "stdout",
     "output_type": "stream",
     "text": [
      "2461/2461 [==============================] - 2s 663us/step - loss: 9.6811e-05\n"
     ]
    },
    {
     "data": {
      "text/plain": [
       "9.681091614766046e-05"
      ]
     },
     "execution_count": 34,
     "metadata": {},
     "output_type": "execute_result"
    }
   ],
   "source": [
    "gridsearch_model.evaluate(x=X_test, y=y_test, sample_weight=weights_test)"
   ]
  },
  {
   "cell_type": "code",
   "execution_count": 35,
   "metadata": {},
   "outputs": [
    {
     "name": "stdout",
     "output_type": "stream",
     "text": [
      "2461/2461 [==============================] - 2s 661us/step - loss: 1.0311e-04\n"
     ]
    },
    {
     "data": {
      "text/plain": [
       "0.00010311140795238316"
      ]
     },
     "execution_count": 35,
     "metadata": {},
     "output_type": "execute_result"
    }
   ],
   "source": [
    "random_search_model.evaluate(x=X_test, y=y_test, sample_weight=weights_test)"
   ]
  },
  {
   "cell_type": "markdown",
   "metadata": {},
   "source": [
    "Test, ob die unzensierten oder zensierten Daten besser sind"
   ]
  },
  {
   "cell_type": "code",
   "execution_count": 41,
   "metadata": {},
   "outputs": [],
   "source": [
    "copy2 = cvd_cleaned_copy.copy()"
   ]
  },
  {
   "cell_type": "code",
   "execution_count": 42,
   "metadata": {},
   "outputs": [
    {
     "name": "stderr",
     "output_type": "stream",
     "text": [
      "C:\\Users\\proxr\\AppData\\Local\\Temp\\ipykernel_2376\\2919881648.py:5: SettingWithCopyWarning: \n",
      "A value is trying to be set on a copy of a slice from a DataFrame\n",
      "\n",
      "See the caveats in the documentation: https://pandas.pydata.org/pandas-docs/stable/user_guide/indexing.html#returning-a-view-versus-a-copy\n",
      "  cvd_uncensored.drop([\"weights\", \"delta\"], axis=1, inplace=True)\n",
      "C:\\Users\\proxr\\AppData\\Local\\Temp\\ipykernel_2376\\2919881648.py:6: SettingWithCopyWarning: \n",
      "A value is trying to be set on a copy of a slice from a DataFrame\n",
      "\n",
      "See the caveats in the documentation: https://pandas.pydata.org/pandas-docs/stable/user_guide/indexing.html#returning-a-view-versus-a-copy\n",
      "  cvd_censored.drop([\"weights\", \"delta\"], axis=1, inplace=True)\n"
     ]
    }
   ],
   "source": [
    "cvd = do_onehot_and_scale(copy2)\n",
    "cvd = weight_calc(cvd)\n",
    "cvd_uncensored = cvd[cvd[\"delta\"] == 1]\n",
    "cvd_censored = cvd[cvd[\"delta\"] == 0]\n",
    "cvd_uncensored.drop([\"weights\", \"delta\"], axis=1, inplace=True)\n",
    "cvd_censored.drop([\"weights\", \"delta\"], axis=1, inplace=True)\n",
    "cvd_uncensored_x = cvd_uncensored[[\"Age\", \"SBP\", \"Cholesterol\", \"HDL\", \"LDL\", \"SmokingStatus\", \"Sex_F\", \"Sex_M\"]]\n",
    "cvd_uncensored_y = cvd_uncensored[\"diff_in_days\"]\n",
    "cvd_censored_x = cvd_censored[[\"Age\", \"SBP\", \"Cholesterol\", \"HDL\", \"LDL\", \"SmokingStatus\", \"Sex_F\", \"Sex_M\"]]\n",
    "cvd_censored_y = cvd_censored[\"diff_in_days\"]"
   ]
  },
  {
   "cell_type": "code",
   "execution_count": 43,
   "metadata": {},
   "outputs": [],
   "source": [
    "model = tf.keras.models.Sequential([\n",
    "            tf.keras.layers.Dense(8, input_shape=(8,), activation='relu', dtype=\"float32\"),\n",
    "            tf.keras.layers.Dense(128, activation=\"relu\", dtype=\"float32\"),\n",
    "            tf.keras.layers.Dense(128, activation=\"relu\", dtype=\"float32\"),\n",
    "            tf.keras.layers.Dense(1, activation='linear', dtype=\"float32\")\n",
    "        ])"
   ]
  },
  {
   "cell_type": "code",
   "execution_count": 44,
   "metadata": {},
   "outputs": [
    {
     "name": "stdout",
     "output_type": "stream",
     "text": [
      "Epoch 1/5\n",
      "39372/39372 [==============================] - 34s 838us/step - loss: 8.8876e-06\n",
      "Epoch 2/5\n",
      "39372/39372 [==============================] - 33s 830us/step - loss: 8.5531e-06\n",
      "Epoch 3/5\n",
      "39372/39372 [==============================] - 32s 824us/step - loss: 8.4872e-06\n",
      "Epoch 4/5\n",
      "39372/39372 [==============================] - 33s 826us/step - loss: 8.4370e-06\n",
      "Epoch 5/5\n",
      "39372/39372 [==============================] - 33s 826us/step - loss: 8.4091e-06\n"
     ]
    },
    {
     "data": {
      "text/plain": [
       "<keras.src.callbacks.History at 0x193be2a1f50>"
      ]
     },
     "execution_count": 44,
     "metadata": {},
     "output_type": "execute_result"
    }
   ],
   "source": [
    "model.compile(optimizer='adam', loss=\"mean_squared_error\", weighted_metrics=[])\n",
    "model.fit(x=X_train, y=y_train, epochs=5, batch_size=8, sample_weight=weights_train)"
   ]
  },
  {
   "cell_type": "code",
   "execution_count": 45,
   "metadata": {},
   "outputs": [
    {
     "name": "stdout",
     "output_type": "stream",
     "text": [
      "46331/46331 [==============================] - 32s 682us/step - loss: 72.6741\n"
     ]
    },
    {
     "data": {
      "text/plain": [
       "72.67405700683594"
      ]
     },
     "execution_count": 45,
     "metadata": {},
     "output_type": "execute_result"
    }
   ],
   "source": [
    "model.evaluate(x=cvd_censored_x, y=cvd_censored_y, batch_size=8)"
   ]
  },
  {
   "cell_type": "code",
   "execution_count": 46,
   "metadata": {},
   "outputs": [
    {
     "name": "stdout",
     "output_type": "stream",
     "text": [
      "2885/2885 [==============================] - 2s 697us/step - loss: 14.3282\n"
     ]
    },
    {
     "data": {
      "text/plain": [
       "14.328184127807617"
      ]
     },
     "execution_count": 46,
     "metadata": {},
     "output_type": "execute_result"
    }
   ],
   "source": [
    "model.evaluate(x=cvd_uncensored_x, y=cvd_uncensored_y, batch_size=8)"
   ]
  },
  {
   "cell_type": "markdown",
   "metadata": {},
   "source": [
    "### 11 Performance nach Zensierungsrate"
   ]
  },
  {
   "cell_type": "code",
   "execution_count": 29,
   "metadata": {},
   "outputs": [],
   "source": [
    "def test_censor_performance(df, censorrate, train_weights, test_weights):\n",
    "    loss_df = pd.DataFrame(columns=[\"train_loss\", \"test_loss\"])\n",
    "    pack = 0 \n",
    "    packs = 50\n",
    "    while pack < packs:\n",
    "        model = tf.keras.models.Sequential([\n",
    "            tf.keras.layers.Dense(8, input_shape=(8,), activation='relu', dtype=\"float32\"),\n",
    "            tf.keras.layers.Dense(128, activation=\"relu\", dtype=\"float32\"),\n",
    "            tf.keras.layers.Dense(128, activation=\"relu\", dtype=\"float32\"),\n",
    "            tf.keras.layers.Dense(1, activation='linear', dtype=\"float32\")\n",
    "        ])\n",
    "    \n",
    "        model.compile(optimizer='adam', loss=\"mean_squared_error\", weighted_metrics=[])\n",
    "        state = np.random.randint(1, 1000, 1)\n",
    "        data = df.copy()\n",
    "        data = censor_distribution(data, censorrate, state)\n",
    "        data = do_onehot_and_scale(data)\n",
    "        df1, df2 = split_data(data, seed=state)\n",
    "        df1 = weight_calc(df1)\n",
    "        df2 = weight_calc(df2)\n",
    "        train_x, train_y, train_weights = split_input_target(df1)\n",
    "        test_x, test_y, test_weights = split_input_target(df2)\n",
    "        history = model.fit(train_x, train_y, epochs=5, batch_size=8, verbose=0, sample_weight=train_weights)\n",
    "        test_loss = model.evaluate(test_x, test_y, batch_size=8, verbose=0, sample_weight=test_weights)\n",
    "        loss_df.loc[pack] = (history.history[\"loss\"][-1], test_loss)\n",
    "        pack+=1\n",
    "        print(\"Pack \", pack , \"/\" , packs)\n",
    "        clear_output(wait=True)\n",
    "    return loss_df"
   ]
  },
  {
   "cell_type": "code",
   "execution_count": 30,
   "metadata": {},
   "outputs": [
    {
     "name": "stdout",
     "output_type": "stream",
     "text": [
      "Pack  50 / 50\n"
     ]
    }
   ],
   "source": [
    "censor_performance_10 = test_censor_performance(cvd_cleaned_copy, 0.1, weights_train10, weights_test10)"
   ]
  },
  {
   "cell_type": "code",
   "execution_count": 31,
   "metadata": {},
   "outputs": [
    {
     "name": "stdout",
     "output_type": "stream",
     "text": [
      "Pack  50 / 50\n"
     ]
    }
   ],
   "source": [
    "censor_performance_25 = test_censor_performance(cvd_cleaned_copy, 0.25, weights_train25, weights_test25)"
   ]
  },
  {
   "cell_type": "code",
   "execution_count": 32,
   "metadata": {},
   "outputs": [
    {
     "name": "stdout",
     "output_type": "stream",
     "text": [
      "Pack  50 / 50\n"
     ]
    }
   ],
   "source": [
    "censor_performance_50 = test_censor_performance(cvd_cleaned_copy, 0.5, weights_train50, weights_test50)"
   ]
  },
  {
   "cell_type": "code",
   "execution_count": 33,
   "metadata": {},
   "outputs": [
    {
     "name": "stdout",
     "output_type": "stream",
     "text": [
      "Pack  50 / 50\n"
     ]
    }
   ],
   "source": [
    "censor_performance_75 = test_censor_performance(cvd_cleaned_copy, 0.75, weights_train75, weights_test75)"
   ]
  },
  {
   "cell_type": "code",
   "execution_count": 34,
   "metadata": {},
   "outputs": [
    {
     "name": "stdout",
     "output_type": "stream",
     "text": [
      "Pack  50 / 50\n"
     ]
    }
   ],
   "source": [
    "censor_performance_default = test_censor_performance(cvd_cleaned_copy, 1, weights_train, weights_test)"
   ]
  },
  {
   "cell_type": "code",
   "execution_count": 35,
   "metadata": {},
   "outputs": [],
   "source": [
    "def custom_scientific_format(x):\n",
    "    return \"{:e}\".format(x)\n",
    "pd.set_option('display.float_format', custom_scientific_format)"
   ]
  },
  {
   "cell_type": "code",
   "execution_count": 36,
   "metadata": {},
   "outputs": [],
   "source": [
    "censor_performance_10.rename(columns={\"train_loss\": \"train_loss_10\", \"test_loss\": \"test_loss_10\"}, inplace=True)\n",
    "censor_performance_25.rename(columns={\"train_loss\": \"train_loss_25\", \"test_loss\": \"test_loss_25\"}, inplace=True)\n",
    "censor_performance_50.rename(columns={\"train_loss\": \"train_loss_50\", \"test_loss\": \"test_loss_50\"}, inplace=True)\n",
    "censor_performance_75.rename(columns={\"train_loss\": \"train_loss_75\", \"test_loss\": \"test_loss_75\"}, inplace=True)\n",
    "censor_performance_default.rename(columns={\"train_loss\": \"train_loss_default\", \"test_loss\": \"test_loss_default\"}, inplace=True)"
   ]
  },
  {
   "cell_type": "code",
   "execution_count": 37,
   "metadata": {},
   "outputs": [],
   "source": [
    "performance_data = pd.concat([censor_performance_10, censor_performance_25, censor_performance_50, censor_performance_75, censor_performance_default], axis=1)"
   ]
  },
  {
   "cell_type": "code",
   "execution_count": 38,
   "metadata": {},
   "outputs": [
    {
     "data": {
      "text/plain": [
       "Text(0.5, 1.0, 'Vergleich Trainings- und Testloss der verschiedenen Zensierungsraten')"
      ]
     },
     "execution_count": 38,
     "metadata": {},
     "output_type": "execute_result"
    },
    {
     "data": {
      "image/png": "[encoded data removed]",
      "text/plain": [
       "<Figure size 1400x900 with 1 Axes>"
      ]
     },
     "metadata": {},
     "output_type": "display_data"
    }
   ],
   "source": [
    "plt.figure(figsize=(14,9))\n",
    "plt.boxplot(performance_data, labels=[\"train loss 10%\", \"test loss 10%\", \n",
    "                                      \"train loss 25%\", \"test loss 25%\", \n",
    "                                      \"train_loss 50%\", \"test loss 50%\", \n",
    "                                      \"train loss 75%\", \"test loss 75%\", \n",
    "                                      \"train loss default\", \"test loss default\"])\n",
    "plt.xticks(rotation=90)\n",
    "plt.grid(zorder=2, axis=\"y\")\n",
    "plt.ylabel(\"Loss\")\n",
    "plt.title(\"Vergleich Trainings- und Testloss der verschiedenen Zensierungsraten\")"
   ]
  },
  {
   "cell_type": "code",
   "execution_count": 39,
   "metadata": {},
   "outputs": [],
   "source": [
    "pd.reset_option('display.float_format')"
   ]
  },
  {
   "cell_type": "markdown",
   "metadata": {},
   "source": [
    "### 12 Test ohne Gewichte"
   ]
  },
  {
   "cell_type": "code",
   "execution_count": 40,
   "metadata": {},
   "outputs": [
    {
     "name": "stdout",
     "output_type": "stream",
     "text": [
      "Epoch 1/5\n",
      "39372/39372 [==============================] - 33s 830us/step - loss: 5.1941\n",
      "Epoch 2/5\n",
      "39372/39372 [==============================] - 32s 823us/step - loss: 4.8617\n",
      "Epoch 3/5\n",
      "39372/39372 [==============================] - 32s 819us/step - loss: 4.8519\n",
      "Epoch 4/5\n",
      "39372/39372 [==============================] - 32s 806us/step - loss: 4.8390\n",
      "Epoch 5/5\n",
      "39372/39372 [==============================] - 32s 807us/step - loss: 4.8356\n"
     ]
    },
    {
     "data": {
      "text/plain": [
       "<keras.src.callbacks.History at 0x193be3f8c90>"
      ]
     },
     "execution_count": 40,
     "metadata": {},
     "output_type": "execute_result"
    }
   ],
   "source": [
    "model = tf.keras.models.Sequential([\n",
    "            tf.keras.layers.Dense(8, input_shape=(8,), activation='relu', dtype=\"float32\"),\n",
    "            tf.keras.layers.Dense(128, activation=\"relu\", dtype=\"float32\"),\n",
    "            tf.keras.layers.Dense(128, activation=\"relu\", dtype=\"float32\"),\n",
    "            tf.keras.layers.Dense(1, activation='linear', dtype=\"float32\")\n",
    "        ])\n",
    "\n",
    "model.compile(optimizer='adam', loss=\"mean_squared_error\")\n",
    "model.fit(x=X_train, y=y_train, epochs=5, batch_size=8)"
   ]
  }
 ],
 "metadata": {
  "kernelspec": {
   "display_name": "base",
   "language": "python",
   "name": "python3"
  },
  "language_info": {
   "codemirror_mode": {
    "name": "ipython",
    "version": 3
   },
   "file_extension": ".py",
   "mimetype": "text/x-python",
   "name": "python",
   "nbconvert_exporter": "python",
   "pygments_lexer": "ipython3",
   "version": "3.11.5"
  }
 },
 "nbformat": 4,
 "nbformat_minor": 2
}
